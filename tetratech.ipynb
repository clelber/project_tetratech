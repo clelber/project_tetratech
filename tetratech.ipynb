{
 "cells": [
  {
   "cell_type": "code",
   "execution_count": 3,
   "metadata": {},
   "outputs": [
    {
     "name": "stdout",
     "output_type": "stream",
     "text": [
      "Collecting selenium\n",
      "  Using cached selenium-3.141.0-py2.py3-none-any.whl (904 kB)\n",
      "Requirement already satisfied: urllib3 in c:\\users\\simoe\\anaconda3\\lib\\site-packages (from selenium) (1.25.11)\n",
      "Installing collected packages: selenium\n",
      "Successfully installed selenium-3.141.0\n",
      "Note: you may need to restart the kernel to use updated packages.\n"
     ]
    }
   ],
   "source": [
    "#instalação das bibliotecas necessárias\n",
    "#pip install selenium\n",
    "#pip install pandas\n",
    "#pip install matplotlib\n"
   ]
  },
  {
   "cell_type": "code",
   "execution_count": 1,
   "metadata": {},
   "outputs": [],
   "source": [
    "#importação das bibliotecas\n",
    "from selenium.webdriver import Chrome\n",
    "import time as t\n",
    "import pandas as pd\n",
    "import matplotlib.pyplot as plt"
   ]
  },
  {
   "cell_type": "code",
   "execution_count": null,
   "metadata": {},
   "outputs": [],
   "source": [
    "#importa o chromedriver\n",
    "#acessa o site que vai fornecer a unidade federativa e a população"
   ]
  },
  {
   "cell_type": "code",
   "execution_count": null,
   "metadata": {},
   "outputs": [],
   "source": [
    "navegador = Chrome(\"chromedriver\")\n",
    "navegador.get(\"http://www.bibliotecavirtual.sp.gov.br/temas/sao-paulo/sao-paulo-populacao-do-estado.php\")\n",
    "navegador.maximize_window()\n",
    "t.sleep(3)"
   ]
  },
  {
   "cell_type": "code",
   "execution_count": null,
   "metadata": {},
   "outputs": [],
   "source": [
    "#encontra os elementos para encontrar a tabela com as informações"
   ]
  },
  {
   "cell_type": "code",
   "execution_count": null,
   "metadata": {},
   "outputs": [],
   "source": [
    "\n",
    "linhas = navegador.find_elements_by_xpath(\"/html/body/div[3]/div/div[1]/article/div/div\")"
   ]
  },
  {
   "cell_type": "code",
   "execution_count": null,
   "metadata": {},
   "outputs": [],
   "source": [
    "#percorre as linhas encontradas em busca das tags \"td\"\n",
    "#adiciona as informações \"unidade federativa\" e \"população\" em uma lista"
   ]
  },
  {
   "cell_type": "code",
   "execution_count": null,
   "metadata": {},
   "outputs": [],
   "source": [
    "lista = []\n",
    "for linha in linhas:\n",
    "    tds = linha.find_elements_by_tag_name('td')\n",
    "    for i, t in enumerate(tds, 1):\n",
    "        lista.append(t.text)"
   ]
  },
  {
   "cell_type": "code",
   "execution_count": null,
   "metadata": {},
   "outputs": [],
   "source": [
    "#cria um dicionário com a sigla e o nome das unidades federativa, para facilitar a inclusão dos dados"
   ]
  },
  {
   "cell_type": "code",
   "execution_count": 3,
   "metadata": {},
   "outputs": [],
   "source": [
    "ufs = {\"AC\": \"Acre\", \"AL\": \"Alagoas\", \"AM\": \"Amazonas\", \"AP\": \"Amapá\", \"BA\": \"Bahia\", \"CE\": \"Ceará\",\n",
    "       \"DF\": \"Distrito Federal\", \"ES\": \"Espirito Santo\", \"GO\": \"Goiás\", \"MA\": \"Maranhão\", \"MG\": \"Minas Gerais\",\n",
    "       \"MS\": \"Mato Grosso do Sul\", \"MT\": \"Mato Grosso\", \"PA\": \"Pará\", \"PB\": \"Paraiba\", \"PE\": \"Pernambuco\",\n",
    "       \"PI\": \"Piauí\", \"PR\": \"Paraná\", \"RJ\": \"Rio de Janeiro\", \"RN\": \"Rio Grande do Norte\", \"RO\": \"Rondônia\",\n",
    "       \"RR\": \"Roraima\", \"RS\": \"Rio Grande do Sul\", \"SC\": \"Santa Catarina\", \"SE\": \"Sergipe\", \"SP\": \"São Paulo\",\n",
    "       \"TO\": \"Tocantins\"}"
   ]
  },
  {
   "cell_type": "code",
   "execution_count": null,
   "metadata": {},
   "outputs": [],
   "source": [
    "# 1 - percorre todas as unidades federativas\n",
    "# 2 - para cada uma inclui sigla na url e faz a leitura do csv sem baixar o arquivo\n",
    "# 3 - pega a quantidade de linhas do csv para a quantidade de vacinados\n",
    "# 4 - percorre a lista de população e pega a quantidade da unidade atual\n",
    "# 5 - calcula a porcentagem da população vacinada\n",
    "# 6 - monta os dados da planilha a ser criada\n",
    "# 7 - monta cabeçalho\n",
    "# 8 - plota a planilha"
   ]
  },
  {
   "cell_type": "code",
   "execution_count": null,
   "metadata": {},
   "outputs": [],
   "source": [
    "for uf in ufs:\n",
    "    url = f'https://s3-sa-east-1.amazonaws.com/ckan.saude.gov.br/PNI/vacina/uf/2021-07-06/uf%3D{uf}/'\\\n",
    "          f'part-00000-2266a6be-a6af-4755-86bc-9c3b75d8f506.c000.csv'\n",
    "\n",
    "    df = pd.read_csv(url, encoding='cp1252', skiprows=1, sep=';', low_memory=False)\n",
    "    vacinados = len(df.index)\n",
    "    populacao = ''\n",
    "\n",
    "    for index, linha in enumerate(lista):\n",
    "        if ufs[uf] in linha:\n",
    "            populacao = lista[index+1]\n",
    "            populacao = str(populacao).replace('.', '')\n",
    "            break\n",
    "\n",
    "    aderencia = (100 * vacinados) / int(populacao)\n",
    "    fig, ax = plt.subplots(1, 1)\n",
    "\n",
    "    data = [[ufs[uf], populacao, f'{vacinados:,.2f}', '{:.2f}'.format(aderencia)]]\n",
    "\n",
    "    column_labels = [\"Unidade Federativa\", \"População\", \"Vacinados\", \"Aderência (%)\"]\n",
    "    ax.axis('tight')\n",
    "    ax.axis('off')\n",
    "    ax.table(cellText=data, colLabels=column_labels, loc=\"center\")\n",
    "\n",
    "    plt.show()"
   ]
  }
 ],
 "metadata": {
  "kernelspec": {
   "display_name": "Python 3",
   "language": "python",
   "name": "python3"
  },
  "language_info": {
   "codemirror_mode": {
    "name": "ipython",
    "version": 3
   },
   "file_extension": ".py",
   "mimetype": "text/x-python",
   "name": "python",
   "nbconvert_exporter": "python",
   "pygments_lexer": "ipython3",
   "version": "3.8.5"
  }
 },
 "nbformat": 4,
 "nbformat_minor": 4
}
